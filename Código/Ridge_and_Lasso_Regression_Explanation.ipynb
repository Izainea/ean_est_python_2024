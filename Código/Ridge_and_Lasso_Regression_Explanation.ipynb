{
 "cells": [
  {
   "cell_type": "markdown",
   "id": "754dabf1",
   "metadata": {},
   "source": [
    "# Cuaderno: Ridge y Lasso Regression en Profundidad"
   ]
  },
  {
   "cell_type": "markdown",
   "id": "09b579c6",
   "metadata": {},
   "source": [
    "## **1. Introducción al problema de la regresión y la regularización**\n",
    "En los problemas de **regresión**, nuestro objetivo es encontrar una relación entre una variable dependiente (respuesta) y una o más variables independientes (predictores).\n",
    "La forma más común de hacerlo es utilizando **regresión lineal**. Sin embargo, la regresión lineal tiene limitaciones, especialmente cuando se enfrenta a datos ruidosos, multicolinealidad\n",
    "(cuando las variables independientes están correlacionadas entre sí) o un gran número de variables con relación al número de observaciones. Aquí es donde entra la **regularización**.\n",
    "\n",
    "La regularización es una técnica que modifica la función de costo del modelo de regresión lineal, agregando una penalización por el tamaño de los coeficientes del modelo.\n",
    "Esto ayuda a reducir el sobreajuste (cuando el modelo se ajusta demasiado a los datos de entrenamiento, pero no generaliza bien a datos nuevos) y mejora la capacidad predictiva del modelo.\n"
   ]
  },
  {
   "cell_type": "code",
   "execution_count": null,
   "id": "c50ad4af",
   "metadata": {},
   "outputs": [],
   "source": [
    "\n",
    "import numpy as np\n",
    "import pandas as pd\n",
    "import matplotlib.pyplot as plt\n",
    "from sklearn.model_selection import train_test_split\n",
    "from sklearn.linear_model import Ridge, Lasso, RidgeCV, LassoCV\n",
    "from sklearn.metrics import mean_squared_error, r2_score\n",
    "from sklearn.preprocessing import StandardScaler\n",
    "    "
   ]
  },
  {
   "cell_type": "markdown",
   "id": "937ec349",
   "metadata": {},
   "source": [
    "\n",
    "### 2. **Generar un conjunto de datos**\n",
    "Vamos a crear un conjunto de datos sintético con variables altamente correlacionadas para demostrar los beneficios de la regularización.\n",
    "    "
   ]
  },
  {
   "cell_type": "code",
   "execution_count": null,
   "id": "3e2958ad",
   "metadata": {},
   "outputs": [],
   "source": [
    "\n",
    "# Generar datos sintéticos\n",
    "np.random.seed(42)\n",
    "n_samples = 100\n",
    "n_features = 10\n",
    "\n",
    "# Crear variables independientes\n",
    "X = np.random.randn(n_samples, n_features)\n",
    "\n",
    "# Crear un vector de coeficientes con solo algunas variables no cero\n",
    "true_coefs = np.array([5, -3, 0, 0, 2, 0, 0, 1, 0, 0])\n",
    "y = X @ true_coefs + np.random.randn(n_samples) * 0.5  # Añadir algo de ruido\n",
    "\n",
    "# Dividir los datos en entrenamiento y prueba\n",
    "X_train, X_test, y_train, y_test = train_test_split(X, y, test_size=0.2, random_state=42)\n",
    "    "
   ]
  },
  {
   "cell_type": "markdown",
   "id": "3e33aa4b",
   "metadata": {},
   "source": [
    "\n",
    "### 3. **Normalizar los datos**\n",
    "Es importante normalizar los datos antes de aplicar Ridge o Lasso, ya que ambas técnicas son sensibles a la escala de las variables.\n",
    "    "
   ]
  },
  {
   "cell_type": "code",
   "execution_count": null,
   "id": "1696eda0",
   "metadata": {},
   "outputs": [],
   "source": [
    "\n",
    "scaler = StandardScaler()\n",
    "X_train_scaled = scaler.fit_transform(X_train)\n",
    "X_test_scaled = scaler.transform(X_test)\n",
    "    "
   ]
  },
  {
   "cell_type": "markdown",
   "id": "9593932b",
   "metadata": {},
   "source": [
    "\n",
    "## **4. Ridge Regression**\n",
    "La regresión Ridge añade una penalización sobre la magnitud de los coeficientes al modelo de regresión lineal para limitar el tamaño de estos y evitar el sobreajuste.\n",
    "    "
   ]
  },
  {
   "cell_type": "code",
   "execution_count": null,
   "id": "1e700edd",
   "metadata": {},
   "outputs": [],
   "source": [
    "\n",
    "# Ajustar un modelo de Ridge\n",
    "ridge_model = Ridge(alpha=1.0)\n",
    "ridge_model.fit(X_train_scaled, y_train)\n",
    "\n",
    "# Predicciones y evaluación\n",
    "y_pred_ridge = ridge_model.predict(X_test_scaled)\n",
    "mse_ridge = mean_squared_error(y_test, y_pred_ridge)\n",
    "r2_ridge = r2_score(y_test, y_pred_ridge)\n",
    "\n",
    "print(f'Ridge - MSE: {mse_ridge:.3f}, R2: {r2_ridge:.3f}')\n",
    "print(f'Coeficientes de Ridge: {ridge_model.coef_}')\n",
    "    "
   ]
  },
  {
   "cell_type": "markdown",
   "id": "09ea7301",
   "metadata": {},
   "source": [
    "## **5. Lasso Regression**\n",
    "La regresión Lasso agrega una penalización proporcional a la suma de los valores absolutos de los coeficientes, lo que puede llevar a coeficientes exactamente cero y, por ende, a la selección de variables.\n",
    "    "
   ]
  },
  {
   "cell_type": "code",
   "execution_count": null,
   "id": "f59ac417",
   "metadata": {},
   "outputs": [],
   "source": [
    "\n",
    "# Ajustar un modelo de Lasso\n",
    "lasso_model = Lasso(alpha=0.1)\n",
    "lasso_model.fit(X_train_scaled, y_train)\n",
    "\n",
    "# Predicciones y evaluación\n",
    "y_pred_lasso = lasso_model.predict(X_test_scaled)\n",
    "mse_lasso = mean_squared_error(y_test, y_pred_lasso)\n",
    "r2_lasso = r2_score(y_test, y_pred_lasso)\n",
    "\n",
    "print(f'Lasso - MSE: {mse_lasso:.3f}, R2: {r2_lasso:.3f}')\n",
    "print(f'Coeficientes de Lasso: {lasso_model.coef_}')\n",
    "    "
   ]
  },
  {
   "cell_type": "markdown",
   "id": "0d9641d4",
   "metadata": {},
   "source": [
    "\n",
    "### **6. Visualización de los coeficientes**\n",
    "Visualizaremos los coeficientes estimados por cada modelo para observar cómo afectan la regularización y la selección de variables.\n",
    "    "
   ]
  },
  {
   "cell_type": "code",
   "execution_count": null,
   "id": "31149f51",
   "metadata": {},
   "outputs": [],
   "source": [
    "\n",
    "plt.figure(figsize=(10, 6))\n",
    "plt.plot(true_coefs, 'o-', label='Coeficientes Verdaderos')\n",
    "plt.plot(ridge_model.coef_, 'o-', label='Coeficientes Ridge')\n",
    "plt.plot(lasso_model.coef_, 'o-', label='Coeficientes Lasso')\n",
    "plt.xlabel('Índice de Coeficiente')\n",
    "plt.ylabel('Valor del Coeficiente')\n",
    "plt.title('Comparación de Coeficientes entre Ridge y Lasso')\n",
    "plt.legend()\n",
    "plt.show()\n",
    "    "
   ]
  },
  {
   "cell_type": "markdown",
   "id": "86fccd85",
   "metadata": {
    "vscode": {
     "languageId": "plaintext"
    }
   },
   "source": [
    "\n",
    "## **7. Ajuste de hiperparámetros $\\alpha$ mediante validación cruzada**\n",
    "Una técnica común para seleccionar el mejor valor de $\\alpha$ es usar **validación cruzada**.\n",
    "    "
   ]
  },
  {
   "cell_type": "code",
   "execution_count": null,
   "id": "7196de2c",
   "metadata": {},
   "outputs": [],
   "source": [
    "\n",
    "# Ajustar Ridge con validación cruzada\n",
    "ridge_cv_model = RidgeCV(alphas=[0.1, 1.0, 10.0])\n",
    "ridge_cv_model.fit(X_train_scaled, y_train)\n",
    "\n",
    "# Ajustar Lasso con validación cruzada\n",
    "lasso_cv_model = LassoCV(alphas=[0.01, 0.1, 1.0])\n",
    "lasso_cv_model.fit(X_train_scaled, y_train)\n",
    "\n",
    "print(f'Mejor alpha para Ridge: {ridge_cv_model.alpha_}')\n",
    "print(f'Mejor alpha para Lasso: {lasso_cv_model.alpha_}')\n",
    "    "
   ]
  },
  {
   "cell_type": "markdown",
   "id": "a784445e",
   "metadata": {},
   "source": [
    "\n",
    "### **8. Efecto de $\\alpha$ en el modelo**\n",
    "Visualicemos el efecto de diferentes valores de $\\alpha$ en el error cuadrático medio (MSE) y los coeficientes de Lasso.\n",
    "    "
   ]
  },
  {
   "cell_type": "code",
   "execution_count": null,
   "id": "1a377105",
   "metadata": {},
   "outputs": [],
   "source": [
    "\n",
    "alphas = np.logspace(-3, 1, 50)\n",
    "mse_lasso_path = []\n",
    "\n",
    "for alpha in alphas:\n",
    "    lasso = Lasso(alpha=alpha)\n",
    "    lasso.fit(X_train_scaled, y_train)\n",
    "    y_pred = lasso.predict(X_test_scaled)\n",
    "    mse_lasso_path.append(mean_squared_error(y_test, y_pred))\n",
    "\n",
    "plt.figure(figsize=(10, 6))\n",
    "plt.plot(alphas, mse_lasso_path, marker='o')\n",
    "plt.xscale('log')\n",
    "plt.xlabel('Alpha')\n",
    "plt.ylabel('MSE')\n",
    "plt.title('Efecto de Alpha en el Error Cuadrático Medio para Lasso')\n",
    "plt.show()\n",
    "    "
   ]
  },
  {
   "cell_type": "markdown",
   "id": "83cd9774",
   "metadata": {},
   "source": [
    "\n",
    "## **9. Conclusiones finales**\n",
    "- **Ridge Regression** es útil para reducir la magnitud de los coeficientes y es adecuado cuando hay multicolinealidad.\n",
    "- **Lasso Regression** realiza selección de variables y es útil para modelos más interpretativos.\n",
    "- La selección del mejor $\\alpha$ mediante validación cruzada es esencial para el rendimiento óptimo del modelo.\n",
    "    "
   ]
  },
  {
   "cell_type": "markdown",
   "id": "2f3be97c",
   "metadata": {},
   "source": []
  }
 ],
 "metadata": {
  "language_info": {
   "name": "python"
  }
 },
 "nbformat": 4,
 "nbformat_minor": 5
}
